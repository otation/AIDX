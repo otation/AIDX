import time

def init_queue(size):
    """Queue 초기화."""
    return [[0, 0.0, 0.0] for _ in range(size)]  # [활성화 상태, 경과 시간, 시작 시간]

queue1 = init_queue(4)
print(queue1)
print(len(queue1))
def append_queue(queue):
    """Queue에 태스크 추가."""
    for i in range(len(queue)):
        if queue[i][0] == 0:  # 비어 있는 슬롯 찾기
            queue[i][0] = 1  # 활성화 상태로 변경
            queue[i][2] = time.time()  # 등록 시간 기록
            print(f"슬롯 {i+1}에 태스크 추가됨.")
            break
    else:
        print("Queue가 가득 찼습니다. 추가 불가!")
    return queue
    
queue1 = append_queue(queue1)
queue1 = append_queue(queue1)
print(queue1)
time.sleep(3)

def update_queue(queue):
    """Queue를 업데이트하고, 20초 이상 대기 중인 태스크를 반환."""
    for i in range(len(queue)):
        if queue[i][0] != 0:  # 활성화된 태스크만 처리
            elapsed_time = time.time() - queue[i][2]
            queue[i][1] = elapsed_time
            if elapsed_time >= 3:
                print(f"슬롯 {i}의 태스크가 20초를 초과했습니다. 반환합니다.")
                print("task_move_to(태스크위치[0][0-2] 부터 슬라이딩위쪽까지") # 반환 동작
                queue[i] = [0, 0.0, 0.0]  # 슬롯 초기화
    return queue

queue1 = update_queue(queue1)
print(queue1)

time_set = [10, 20, 15, 10]

def auto_queue_process(queue, size=4):
    """Queue 기반으로 자동 작업 처리."""
    while True:
        for i in range(size):
            if queue[i][0] == 1:  # 활성화된 작업
                elapsed_time = time.time() - queue[i][2]
                if elapsed_time >= time_set[i]:
                    print(f"슬롯 {i}의 아이템 20초 초과: 반환 처리 시작.")
                   
                    print("로봇 리턴 동작")
                    time.sleep(3)
                    queue[i] = [0, 0.0, 0.0]  # 작업 초기화
                else:
                    print(f"슬롯 {i} 작업 중: 경과 시간 {elapsed_time:.2f}초")
                    time.sleep(1)
                   
            elif queue[i][0] == 0:  # 비어 있는 작업
                print("로봇 추가 동작")
                time.sleep(3)
                queue[i][0] = 1
                queue[i][2] = time.time()  # 등록 시간 기록
                print(f"슬롯 {i}에 새로운 작업 추가.")

auto_queue_process(queue1)
print(queue1)
