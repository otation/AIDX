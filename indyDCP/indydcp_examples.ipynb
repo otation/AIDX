def move_done_check():
    while True:
        status = indy.get_robot_status()
        sleep(0.1)
        if status['movedone'] == True:
            break

def gripper(hold):
    if hold == True:
        indy.set_do(2, True)
        sleep(1)
    elif hold == False:
        indy.set_do(2, False)
        sleep(1)

x_offset = 0.04 #[0] approach
y_offset = 0.04 #[1] target
z_offset = 0.02 #[2] retract
x = 0
y = 1
z = 2

indy.connect()

t_pos_temp = [0.18901400774475438, 0.3223276396160324, 0.4106097948240943, -179.8172622630945, -0.03276487114401588, 179.9678431551056]

pos=[t_pos_temp.copy(),t_pos_temp.copy(),t_pos_temp.copy()],[t_pos_temp.copy(),t_pos_temp.copy(),t_pos_temp.copy()],[t_pos_temp.copy(),t_pos_temp.copy(),t_pos_temp.copy()],[t_pos_temp.copy(),t_pos_temp.copy(),t_pos_temp.copy()],[t_pos_temp.copy(),t_pos_temp.copy(),t_pos_temp.copy()],[t_pos_temp.copy(),t_pos_temp.copy(),t_pos_temp.copy()],[t_pos_temp.copy(),t_pos_temp.copy(),t_pos_temp.copy()],[t_pos_temp.copy(),t_pos_temp.copy(),t_pos_temp.copy()],[t_pos_temp.copy(),t_pos_temp.copy(),t_pos_temp.copy()],[t_pos_temp.copy(),t_pos_temp.copy(),t_pos_temp.copy()],[t_pos_temp.copy(),t_pos_temp.copy(),t_pos_temp.copy()],[t_pos_temp.copy(),t_pos_temp.copy(),t_pos_temp.copy()],[t_pos_temp.copy(),t_pos_temp.copy(),t_pos_temp.copy()],[t_pos_temp.copy(),t_pos_temp.copy(),t_pos_temp.copy()],[t_pos_temp.copy(),t_pos_temp.copy(),t_pos_temp.copy()],[t_pos_temp.copy(),t_pos_temp.copy(),t_pos_temp.copy()],[t_pos_temp.copy(),t_pos_temp.copy(),t_pos_temp.copy()],[t_pos_temp.copy(),t_pos_temp.copy(),t_pos_temp.copy()],[t_pos_temp.copy(),t_pos_temp.copy(),t_pos_temp.copy()],[t_pos_temp.copy(),t_pos_temp.copy(),t_pos_temp.copy()],[t_pos_temp.copy(),t_pos_temp.copy(),t_pos_temp.copy()],[t_pos_temp.copy(),t_pos_temp.copy(),t_pos_temp.copy()],[t_pos_temp.copy(),t_pos_temp.copy(),t_pos_temp.copy()],[t_pos_temp.copy(),t_pos_temp.copy(),t_pos_temp.copy()],[t_pos_temp.copy(),t_pos_temp.copy(),t_pos_temp.copy()]

#target 보정-------------------------
for i in range(0, 5):
    pos[i][1][y] += y_offset*2
for i in range(5, 10):
    pos[i][1][y] += y_offset*1
for i in range(10, 15):
    pos[i][1][y] += y_offset*0
for i in range(15, 20):
    pos[i][1][y] -= y_offset*1
for i in range(20, 25):
    pos[i][1][y] -= y_offset*2

for i in range(0, 25, 5):
    pos[i][1][x] += x_offset*2
for i in range(1, 25, 5):
    pos[i][1][x] += x_offset*1
for i in range(2, 25, 5):
    pos[i][1][x] += x_offset*0
for i in range(3, 25, 5):
    pos[i][1][x] -= x_offset*1
for i in range(4, 25, 5):
    pos[i][1][x] -= x_offset*2

#approach 보정-------------------------
for i in range(0, 5):
    pos[i][0][y] += y_offset*2
for i in range(5, 10):
    pos[i][0][y] += y_offset*1
for i in range(10, 15):
    pos[i][0][y] += y_offset*0
for i in range(15, 20):
    pos[i][0][y] -= y_offset*1
for i in range(20, 25):
    pos[i][0][y] -= y_offset*2

for i in range(0, 25, 5):
    pos[i][0][x] += x_offset*2
for i in range(1, 25, 5):
    pos[i][0][x] += x_offset*1
for i in range(2, 25, 5):
    pos[i][0][x] += x_offset*0
for i in range(3, 25, 5):
    pos[i][0][x] -= x_offset*1
for i in range(4, 25, 5):
    pos[i][0][x] -= x_offset*2

#retract 보정-------------------------
for i in range(0, 5):
    pos[i][2][y] += y_offset*2
for i in range(5, 10):
    pos[i][2][y] += y_offset*1
for i in range(10, 15):
    pos[i][2][y] += y_offset*0
for i in range(15, 20):
    pos[i][2][y] -= y_offset*1
for i in range(20, 25):
    pos[i][2][y] -= y_offset*2

for i in range(0, 25, 5):
    pos[i][2][x] += x_offset*2
for i in range(1, 25, 5):
    pos[i][2][x] += x_offset*1
for i in range(2, 25, 5):
    pos[i][2][x] += x_offset*0
for i in range(3, 25, 5):
    pos[i][2][x] -= x_offset*1
for i in range(4, 25, 5):
    pos[i][2][x] -= x_offset*2

# z값 보정---------------------------
for i in range(0, 25):
    pos[i][0][z] += z_offset
    pos[i][2][z] += z_offset

#동작 기동---------------------------
indy.task_move_to(pos[12][0])
move_done_check()
indy.task_move_to(pos[12][1])
move_done_check()
gripper(1)
indy.task_move_to(pos[12][0])
move_done_check()

for i in range(0, 25):
    indy.task_move_to(pos[i][0])
    move_done_check()
    indy.task_move_to(pos[i][1])
    move_done_check()
    gripper(0)
    move_done_check()
    indy.task_move_to(pos[i][2])
    move_done_check()
    indy.task_move_to(pos[i][1])
    move_done_check()
    gripper(1)
    indy.task_move_to(pos[i][2])
    move_done_check()

indy.disconnect()
